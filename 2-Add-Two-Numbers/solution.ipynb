{
 "cells": [
  {
   "cell_type": "markdown",
   "metadata": {},
   "source": [
    "## The problem ##\n",
    "\n",
    "You are given two non-empty linked lists representing two non-negative integers. The digits are stored in reverse order, and each of their nodes contains a single digit. Add the two numbers and return the sum as a linked list.\n",
    "\n",
    "You may assume the two numbers do not contain any leading zero, except the number 0 itself.\n",
    "\n",
    "### Constraints:\n",
    "\n",
    "- The number of nodes in each linked list is in the range [1, 100].\n",
    "- 0 <= Node.val <= 9\n",
    "- It is guaranteed that the list represents a number that does not have leading zeros."
   ]
  },
  {
   "cell_type": "markdown",
   "metadata": {},
   "source": [
    "## Time and Space Complexity\n",
    "\n",
    "**Time complexity: O(max(n,m)) -**  Since we use an iterative approach to solve this problem, the time complexity for this solution depends on the length of the longest input linked list.\n",
    "\n",
    "**Space complexity: O(max(n,m)+1) -** The space complexity depends on the length of the longest input linked list. In the worst case, the result will have a length equal to the longer list, plus one additional node to account for a possible carry at the end."
   ]
  },
  {
   "cell_type": "markdown",
   "metadata": {},
   "source": [
    "## The solution\n",
    "\n",
    "1 - Initialize\n",
    "- dummy - Resulting linked list starting with a default node with a value of 0.\n",
    "- curr - Current node, points to dummy and is updated with a new node in every step.\n",
    "- carry - Keeps track of any carry value.\n",
    "\n",
    "2 - Iterate through lists\n",
    "- If l1, l2 or carry is not null, the while loop is executed.\n",
    "- p1 and p2 are the values of l1 and l2, respectively. If the value is None, then it is set to 0.\n",
    "- Sum p1, p2 and carry, storing the result in the val variable.\n",
    "- Calculate the new carry value.\n",
    "- Calculate the remainder of val, removing the carry value.\n",
    "- Create a new node with the resulting value.\n",
    "- Update curr to point to the newly created node.\n",
    "- Move l1 and l2 to their next nodes.\n",
    "\n",
    "3 - Return result\n",
    "- The curr variable, which stores the new nodes, points to dummy. Thus, return dummy.next, skipping the initial value of 0 to reflect the actual result.\n"
   ]
  },
  {
   "cell_type": "code",
   "execution_count": 2,
   "metadata": {},
   "outputs": [
    {
     "name": "stdout",
     "output_type": "stream",
     "text": [
      "7 -> 0 -> 8\n"
     ]
    }
   ],
   "source": [
    "from typing import Optional\n",
    "\n",
    "class ListNode:\n",
    "    def __init__(self, val=0, next=None):\n",
    "        self.val = val\n",
    "        self.next = next\n",
    "\n",
    "class Solution:\n",
    "    def addTwoNumbers(self, l1: Optional[ListNode], l2: Optional[ListNode]) -> Optional[ListNode]:\n",
    "        dummy = ListNode()\n",
    "        curr = dummy\n",
    "        carry = 0\n",
    "\n",
    "        while l1 or l2 or carry:\n",
    "            p1 = l1.val if l1 else 0\n",
    "            p2 = l2.val if l2 else 0\n",
    "\n",
    "            val = p1 + p2 + carry\n",
    "\n",
    "            carry = val // 10\n",
    "            val = val % 10\n",
    "            curr.next = ListNode(val)\n",
    "\n",
    "            curr = curr.next\n",
    "            l1 = l1.next if l1 else None\n",
    "            l2 = l2.next if l2 else None\n",
    "\n",
    "        return dummy.next\n",
    "\n",
    "def print_linked_list(node: Optional[ListNode]):\n",
    "    values = []\n",
    "    while node:\n",
    "        values.append(node.val)\n",
    "        node = node.next\n",
    "    print(\" -> \".join(map(str, values)))\n",
    "\n",
    "# l1: 2 -> 4 -> 3\n",
    "l1 = ListNode(2)\n",
    "l1.next = ListNode(4)\n",
    "l1.next.next = ListNode(3)\n",
    "\n",
    "# l2: 5 -> 6 -> 4\n",
    "l2 = ListNode(5)\n",
    "l2.next = ListNode(6)\n",
    "l2.next.next = ListNode(4)\n",
    "\n",
    "result = Solution().addTwoNumbers(l1, l2)\n",
    "print_linked_list(result)"
   ]
  }
 ],
 "metadata": {
  "kernelspec": {
   "display_name": "Python 3",
   "language": "python",
   "name": "python3"
  },
  "language_info": {
   "codemirror_mode": {
    "name": "ipython",
    "version": 3
   },
   "file_extension": ".py",
   "mimetype": "text/x-python",
   "name": "python",
   "nbconvert_exporter": "python",
   "pygments_lexer": "ipython3",
   "version": "3.12.4"
  }
 },
 "nbformat": 4,
 "nbformat_minor": 2
}
