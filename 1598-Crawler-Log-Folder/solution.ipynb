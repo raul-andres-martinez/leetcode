{
 "cells": [
  {
   "cell_type": "markdown",
   "metadata": {},
   "source": [
    "## Time and Space Complexity\n",
    "\n",
    "**Time complexity: O(n) -**  As we use an iterative approach to solve this problem the time complexity for this solution depends on the lenght of the array input.\n",
    "\n",
    "**Space complexity: O(1) -** The space complexity is constant as no aditional memory is needed to solve this problem."
   ]
  },
  {
   "cell_type": "code",
   "execution_count": 1,
   "metadata": {},
   "outputs": [
    {
     "name": "stdout",
     "output_type": "stream",
     "text": [
      "2\n"
     ]
    }
   ],
   "source": [
    "from typing import List\n",
    "\n",
    "class Solution:\n",
    "    def minOperations(self, logs: List[str]) -> int:\n",
    "        depth: int = 0\n",
    "        for i in logs:\n",
    "            if i == \"../\":\n",
    "                if depth > 0:\n",
    "                    depth -= 1\n",
    "            elif i != \"./\":\n",
    "                depth += 1\n",
    "\n",
    "        return depth\n",
    "    \n",
    "print(Solution().minOperations([\"d1/\",\"d2/\",\"../\",\"d21/\",\"./\"]))"
   ]
  }
 ],
 "metadata": {
  "kernelspec": {
   "display_name": "Python 3",
   "language": "python",
   "name": "python3"
  },
  "language_info": {
   "codemirror_mode": {
    "name": "ipython",
    "version": 3
   },
   "file_extension": ".py",
   "mimetype": "text/x-python",
   "name": "python",
   "nbconvert_exporter": "python",
   "pygments_lexer": "ipython3",
   "version": "3.12.4"
  }
 },
 "nbformat": 4,
 "nbformat_minor": 2
}
