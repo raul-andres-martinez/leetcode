{
 "cells": [
  {
   "cell_type": "markdown",
   "metadata": {},
   "source": [
    "## The problem ##\n",
    "\n",
    "Write a function to find the longest common prefix string amongst an array of strings.\n",
    "\n",
    "If there is no common prefix, return an empty string \"\".\n",
    "\n",
    "### Constraints:\n",
    "\n",
    "- 1 <= strs.length <= 200\n",
    "- 0 <= strs[i].length <= 200\n",
    "- strs[i] consists of only lowercase English letters."
   ]
  },
  {
   "cell_type": "markdown",
   "metadata": {},
   "source": [
    "## Time and Space Complexity\n",
    "\n",
    "**Time complexity: O(n * (m - 1)) -**  N represents the length of the first string in the array O(n). M represents the array length O(m). Since we iterate throught \"n\" comparing with each other char of the strings present in the array, minus the \"n\" element, it takes n * (m - 1) time in worst case scenario.\n",
    "\n",
    "**Space complexity: O(n) -** The only additional space needed for this algorithm is the result string. On the worst case scenario, the length of the first element."
   ]
  },
  {
   "cell_type": "markdown",
   "metadata": {},
   "source": [
    "## The solution\n",
    "\n",
    "1 - Iterate through first element and array \n",
    "- Initialize a for loop based on the length of first array element \"i\".\n",
    "- Initialize a nested loop based on array length starting from the second element (index 1) \"c\".\n",
    "- Check if the actual index \"i\" on string is bigger than the actual element being compared on array \"c\".\n",
    "- Check if actual char \"i\" on string is different from the char from the actual element being compared on array \"c\".\n",
    "- If any from the above conditions is fulfilled, the prefix is the first element minus the actual index \"i\".\n",
    "- If both loops ends, the prefix is the whole first word"
   ]
  },
  {
   "cell_type": "code",
   "execution_count": 1,
   "metadata": {},
   "outputs": [
    {
     "name": "stdout",
     "output_type": "stream",
     "text": [
      "fl\n"
     ]
    }
   ],
   "source": [
    "from typing import List\n",
    "\n",
    "class Solution:\n",
    "    def longestCommonPrefix(self, strs: List[str]) -> str:\n",
    "        for i in range(len(strs[0])):\n",
    "            for c in range(1, len(strs)):\n",
    "                if i == len(strs[c]) or strs[0][i] != strs[c][i]:\n",
    "                    return strs[0][:i]\n",
    "        return strs[0]\n",
    "\n",
    "\n",
    "print(Solution().longestCommonPrefix([\"flower\",\"flow\",\"flight\"]))"
   ]
  }
 ],
 "metadata": {
  "kernelspec": {
   "display_name": "Python 3",
   "language": "python",
   "name": "python3"
  },
  "language_info": {
   "codemirror_mode": {
    "name": "ipython",
    "version": 3
   },
   "file_extension": ".py",
   "mimetype": "text/x-python",
   "name": "python",
   "nbconvert_exporter": "python",
   "pygments_lexer": "ipython3",
   "version": "3.12.4"
  }
 },
 "nbformat": 4,
 "nbformat_minor": 2
}
